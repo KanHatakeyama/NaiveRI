{
 "cells": [
  {
   "cell_type": "code",
   "execution_count": 1,
   "metadata": {},
   "outputs": [],
   "source": [
    "%load_ext autoreload\n",
    "%autoreload 2\n",
    "\n",
    "from rdkit import Chem\n",
    "from rdkit.Chem import AllChem\n",
    "from mol_anal.mol_utils import smiles_to_mol,get_bond_length,get_bond_list\n",
    "from mol_anal.atom_dict import atom_van_dict\n",
    "import numpy as np"
   ]
  },
  {
   "cell_type": "code",
   "execution_count": 2,
   "metadata": {},
   "outputs": [],
   "source": [
    "smiles=\"[H]C1=CC=C(S)C(OC)=C1\"\n",
    "smiles=\"[*]C1=CC=C(S[*])C=C1\"\n",
    "\n",
    "unit_symbol=\"*\""
   ]
  },
  {
   "cell_type": "code",
   "execution_count": 3,
   "metadata": {},
   "outputs": [
    {
     "name": "stderr",
     "output_type": "stream",
     "text": [
      "RDKit ERROR: [17:44:53] UFFTYPER: Unrecognized atom type: *_ (0)\n",
      "RDKit ERROR: [17:44:53] UFFTYPER: Unrecognized atom type: *_ (6)\n"
     ]
    },
    {
     "data": {
      "image/png": "[encoded data removed]",
      "text/plain": [
       "<rdkit.Chem.rdchem.Mol at 0x14f3f11e0260>"
      ]
     },
     "execution_count": 3,
     "metadata": {},
     "output_type": "execute_result"
    }
   ],
   "source": [
    "mol=smiles_to_mol(smiles)\n",
    "conf=mol.GetConformers()[0]\n",
    "mol"
   ]
  },
  {
   "cell_type": "code",
   "execution_count": 37,
   "metadata": {},
   "outputs": [
    {
     "data": {
      "text/plain": [
       "[(1, 2),\n",
       " (2, 3),\n",
       " (3, 4),\n",
       " (4, 5),\n",
       " (4, 7),\n",
       " (7, 8),\n",
       " (8, 1),\n",
       " (2, 9),\n",
       " (3, 10),\n",
       " (7, 11),\n",
       " (8, 12),\n",
       " [1, 5]]"
      ]
     },
     "execution_count": 37,
     "metadata": {},
     "output_type": "execute_result"
    }
   ],
   "source": [
    "bond_list,repeat_bond=get_bond_list(mol)\n",
    "bond_list\n",
    "\n"
   ]
  },
  {
   "cell_type": "code",
   "execution_count": 83,
   "metadata": {},
   "outputs": [
    {
     "data": {
      "text/plain": [
       "[1, 2, 3, 4, 5, 7, 8, 9, 10, 11, 12]"
      ]
     },
     "execution_count": 83,
     "metadata": {},
     "output_type": "execute_result"
    }
   ],
   "source": [
    "atom_ids"
   ]
  },
  {
   "cell_type": "code",
   "execution_count": 65,
   "metadata": {},
   "outputs": [
    {
     "name": "stdout",
     "output_type": "stream",
     "text": [
      "4.494572443425399 (1, 2)\n",
      "4.4885028080030915 (8, 1)\n",
      "3.7003482456357806 [1, 5]\n",
      "dV 1 7.896102779051262\n",
      "4.494572443425399 (1, 2)\n",
      "4.276012024301313 (2, 3)\n",
      "1.1533344927194504 (2, 9)\n",
      "dV 2 10.655607315669371\n",
      "4.276012024301313 (2, 3)\n",
      "4.383411482553314 (3, 4)\n",
      "1.1505431422270072 (3, 10)\n",
      "dV 3 10.7695596270339\n",
      "4.383411482553314 (3, 4)\n",
      "3.287910695871426 (4, 5)\n",
      "4.382869012386493 (4, 7)\n",
      "dV 4 8.5253350853043\n",
      "3.287910695871426 (4, 5)\n",
      "3.7003482456357806 [1, 5]\n",
      "dV 5 13.591267334608327\n",
      "4.382869012386493 (4, 7)\n",
      "4.249363277479487 (7, 8)\n",
      "1.1438349307870064 (7, 11)\n",
      "dV 7 10.803459055462547\n",
      "4.249363277479487 (7, 8)\n",
      "4.4885028080030915 (8, 1)\n",
      "1.1539097486087153 (8, 12)\n",
      "dV 8 10.687750442024239\n",
      "1.1533344927194504 (2, 9)\n",
      "dV 9 19.42619178339608\n",
      "1.1505431422270072 (3, 10)\n",
      "dV 10 19.428983133888526\n",
      "1.1438349307870064 (7, 11)\n",
      "dV 11 19.43569134532853\n",
      "1.1539097486087153 (8, 12)\n",
      "dV 12 19.42561652750682\n"
     ]
    },
    {
     "data": {
      "text/plain": [
       "150.64556442927386"
      ]
     },
     "execution_count": 65,
     "metadata": {},
     "output_type": "execute_result"
    }
   ],
   "source": [
    "\n",
    "from mol_anal.calc_volume import calc_dVA\n",
    "from mol_anal.mol_utils import get_atom_ids\n",
    "\n",
    "atom_ids=get_atom_ids(mol)\n",
    "\n",
    "V=0\n",
    "\n",
    "for target_atom_id in atom_ids:\n",
    "    dV=calc_dVA(mol,conf,bond_list,target_atom_id,repeat_bond)\n",
    "    V+=dV\n",
    "    print(\"dV\",target_atom_id,dV)\n",
    "\n",
    "V"
   ]
  },
  {
   "cell_type": "code",
   "execution_count": 68,
   "metadata": {},
   "outputs": [
    {
     "data": {
      "text/plain": [
       "(4.205077959300608, 1.2)"
      ]
     },
     "execution_count": 68,
     "metadata": {},
     "output_type": "execute_result"
    }
   ],
   "source": [
    "from mol_anal.calc_volume import calc_s\n",
    "calc_s(mol,conf,[12,8],repeat_bond)\n"
   ]
  },
  {
   "cell_type": "code",
   "execution_count": 79,
   "metadata": {},
   "outputs": [],
   "source": [
    "bond=(8,12)\n",
    "atom_id1 = bond[0]\n",
    "atom_id2 = bond[1]\n",
    "atom1 = mol.GetAtomWithIdx(atom_id1).GetSymbol()\n",
    "atom2 = mol.GetAtomWithIdx(atom_id2).GetSymbol()\n",
    "\n",
    "Ri = atom_van_dict[atom1]\n",
    "Rj = atom_van_dict[atom2]\n",
    "\n",
    "if set(repeat_bond) == set((atom_id1, atom_id2)):\n",
    "    di = 1.7\n",
    "else:\n",
    "    di = get_bond_length(conf, atom_id1, atom_id2)\n",
    "\n",
    "hi = Ri-(Ri**2+di**2-Rj**2)/(2*di)\n",
    "s = 1/3*np.pi*hi**2*(3*Ri-hi)"
   ]
  },
  {
   "cell_type": "code",
   "execution_count": 81,
   "metadata": {},
   "outputs": [
    {
     "data": {
      "text/plain": [
       "(1.7, 1.081124971193227, 1.2, 1.1539097486087153)"
      ]
     },
     "execution_count": 81,
     "metadata": {},
     "output_type": "execute_result"
    }
   ],
   "source": [
    "Ri,di,Rj,s"
   ]
  },
  {
   "cell_type": "code",
   "execution_count": 82,
   "metadata": {},
   "outputs": [
    {
     "data": {
      "text/plain": [
       "(0.4888397395690631, 1.1539097486087153)"
      ]
     },
     "execution_count": 82,
     "metadata": {},
     "output_type": "execute_result"
    }
   ],
   "source": [
    "di\n",
    "hi = Ri-(Ri**2+di**2-Rj**2)/(2*di)\n",
    "\n",
    "s = 1/3*np.pi*hi**2*(3*Ri-hi)\n",
    "hi,s"
   ]
  },
  {
   "cell_type": "code",
   "execution_count": 55,
   "metadata": {},
   "outputs": [
    {
     "data": {
      "text/plain": [
       "1.1539097486087153"
      ]
     },
     "execution_count": 55,
     "metadata": {},
     "output_type": "execute_result"
    }
   ],
   "source": [
    "s"
   ]
  },
  {
   "cell_type": "code",
   "execution_count": 75,
   "metadata": {},
   "outputs": [
    {
     "name": "stdout",
     "output_type": "stream",
     "text": [
      "1.1539097486087153 (8, 12)\n"
     ]
    },
    {
     "data": {
      "text/plain": [
       "1.1539097486087153"
      ]
     },
     "execution_count": 75,
     "metadata": {},
     "output_type": "execute_result"
    }
   ],
   "source": [
    "sigma=0\n",
    "neighbor_atom_bonds = [\n",
    "    bond for bond in bond_list if target_atom_id in bond]\n",
    "for bond in neighbor_atom_bonds:\n",
    "    s, Ri = calc_s(mol, conf, bond, repeat_bond)\n",
    "    print(s,  bond)\n",
    "    sigma += s\n",
    "\n",
    "dVa = 4/3*np.pi*Ri**3-sigma\n",
    "\n",
    "sigma"
   ]
  },
  {
   "cell_type": "code",
   "execution_count": 77,
   "metadata": {},
   "outputs": [
    {
     "data": {
      "text/plain": [
       "1.1539097486087153"
      ]
     },
     "execution_count": 77,
     "metadata": {},
     "output_type": "execute_result"
    }
   ],
   "source": [
    "s"
   ]
  },
  {
   "cell_type": "code",
   "execution_count": 74,
   "metadata": {},
   "outputs": [
    {
     "data": {
      "text/plain": [
       "1.7"
      ]
     },
     "execution_count": 74,
     "metadata": {},
     "output_type": "execute_result"
    }
   ],
   "source": [
    "Ri"
   ]
  },
  {
   "cell_type": "code",
   "execution_count": null,
   "metadata": {},
   "outputs": [],
   "source": []
  }
 ],
 "metadata": {
  "kernelspec": {
   "display_name": "Python 3.7.9 ('mi')",
   "language": "python",
   "name": "python3"
  },
  "language_info": {
   "codemirror_mode": {
    "name": "ipython",
    "version": 3
   },
   "file_extension": ".py",
   "mimetype": "text/x-python",
   "name": "python",
   "nbconvert_exporter": "python",
   "pygments_lexer": "ipython3",
   "version": "3.7.9"
  },
  "orig_nbformat": 4,
  "vscode": {
   "interpreter": {
    "hash": "b611c5573b65b3622b7accb9c1f40b97765ff0445b89d16be92b11ca75db40a7"
   }
  }
 },
 "nbformat": 4,
 "nbformat_minor": 2
}
